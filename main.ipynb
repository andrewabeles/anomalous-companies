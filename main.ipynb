{
 "cells": [
  {
   "cell_type": "markdown",
   "id": "32d8e3ac-bc57-4567-8c39-946ca6eeb0ad",
   "metadata": {},
   "source": [
    "# Abstract"
   ]
  },
  {
   "cell_type": "markdown",
   "id": "36e339fd-6810-4d23-89aa-3b966c1e2cde",
   "metadata": {},
   "source": [
    "# Table of Contents"
   ]
  },
  {
   "cell_type": "markdown",
   "id": "c8615e75-a6fb-4737-a2ab-ab7cb6ae7d40",
   "metadata": {},
   "source": [
    "# Introduction"
   ]
  },
  {
   "cell_type": "markdown",
   "id": "f3e915f9-03ce-4f0c-a90c-e12f0f051285",
   "metadata": {},
   "source": [
    "## Background\n",
    "\n",
    "The SEC is an independent U.S. government agency in charge of oversight of the securities markets. Its primary goal is to protect investors, prevent fraud, and assure fair stock market trades (SEC, n.d.). All publicly traded companies are required by federal law to file quarterly (10Q) and annual (10K) reports with the SEC (Form and Content of Financial Statements, 2022). \n",
    "\n",
    "The ability to identify anomalies can help individual investors avoid investing in companies with higher financial risk. It can help broker-dealers invest client assets in better suited securities that carry less risk. Lastly, anomaly detection can help the SEC identify companies that might require an additional audit of their financial statements."
   ]
  },
  {
   "cell_type": "markdown",
   "id": "ccde2e61-9367-4674-9aaf-bb3297a18067",
   "metadata": {},
   "source": [
    "## Problem Statement\n",
    "\n",
    "Manually retrieving and reviewing every public company's financial statements to find anomalies is a very laborious process that also requires expertise in finance and accounting. \n",
    "\n",
    "**Individual Investors**  \n",
    "For individual investors without any financial acumen or data-wrangling skills, reviewing SEC-filed financial statements for anomalous companies is a very challenging task. The ability to easily identify anomalous companies would save them time and reduce their need for financial expertise.\n",
    "\n",
    "**Coporate Investors**  \n",
    "Prospective customers expect their broker or financial advisor to instantaneously identify anomalous companies and answer questions about them. Having a tool at their disposal that clusters anomalous companies would provide value to both the advisor and consumer.\n",
    "\n",
    "**The SEC**  \n",
    "A tool for clustering companies on the basis of their submitted financials could allow agency analysts to quickly identify suspicious companies that may require closer review."
   ]
  },
  {
   "cell_type": "markdown",
   "id": "b4492773-cbb7-4105-88f7-ec1b81efe876",
   "metadata": {},
   "source": [
    "## Objectives\n",
    "\n",
    "1. Cluster public companies based on commonly disclosed financial metrics. \n",
    "2. Detect anomalous public companies given their commonly disclosed financial metrics. "
   ]
  },
  {
   "cell_type": "markdown",
   "id": "0d9676a2-3fa3-4965-8f30-7900380f0adb",
   "metadata": {},
   "source": [
    "# Literature Review\n",
    "\n",
    "Existing research on clustering financial statements for auditing and investing purposes focuses on distance, partition, hierarchical, and neural-network-based methods. One of the main challenges of this research is balancing model flexibility and interpretability. Flexibility is required to accurately capture patterns in complex multidimensional data, and to lessen the burden of prior knowledge placed on the end user. Intepretability, on the other hand, is necessary for the end user, whether it be an auditor or prospective investor, to trust the results enough to actually use them. The present study attempts to address this challenge and fill a methodological gap in the existing literature by exploring density-based clustering methods, which have been shown to perform well on other financial anomaly detection tasks (Ahmed et al., 2016). Specifically, this work uses the Ordering Points to Identify the Clustering Structure (OPTICS) algorithm to cluster U.S. public company financial statements and detect anomalies. OPTICS is flexible in that it can fit clusters of arbitrary shape and represent clustering information for a wide range of hyperparameter values. Furthermore, its resulting reachability plot provides intuitive cluster interpretation, especially when accompanied by a corresponding attribute plot (Ankerst et al., 1999). "
   ]
  },
  {
   "cell_type": "markdown",
   "id": "ea264c8d-849a-4de7-9b14-75bcaa9ef359",
   "metadata": {},
   "source": [
    "# Methodology\n",
    "\n",
    "This project uses the density-based OPTICS algorithm to cluster and detect anomalous U.S. public company financial statements. The raw data were retrieved from the SEC's APIs and consist of the most commonly disclosed financial metrics of 2020. We explored the data for patterns and issues, which informed our preprocessing decisions. The data were normalized, imputed, and decomposed into their principal components prior to modeling. We used the following Python libraries to implement our methodology: requests, numpy, pandas, matplotlib, seaborn, pca, scikit-learn, and streamlit. "
   ]
  },
  {
   "cell_type": "markdown",
   "id": "1e861956-f9a5-49ac-9a0c-6b19b931e133",
   "metadata": {},
   "source": [
    "## Data Acquisition and Aggregation\n",
    "\n",
    "Data were acquired via the SEC's Extensible Business Markup Language (XBML) APIs. These APIs contain data on thousands of distinct facts, but were were only interested in the most cmmonly reported financial ones. To identify the most prevalent metrics, we randomly sampled 100 companies from the Company Facts API (SEC, 2022a). The sample companies have collectively disclosed 5,305 unique facts, but we only retained the 46 facts reported by the majority of companies in the sample. Data on those metrics for the 2020 calendar year were then retrieved from the Frames API, though three of them had no available data (SEC, 2022b). This resulted in a dataset of 7,683 companies that disclosed at least one of the 43 facts for the 2020 calendar year. Figure 1 demonstrates the data acquisition process. Once acquired, the data were then randomly split into a training (80%) and test (20%) set. Although this work involves unsupervised learning of unlabeled data, the test set serves to ensure the methodology does not overfit to spurious clusters in the training set. "
   ]
  },
  {
   "cell_type": "code",
   "execution_count": 34,
   "id": "21b8fc78-a46b-4858-910a-1b61e9388bde",
   "metadata": {
    "tags": []
   },
   "outputs": [
    {
     "name": "stdout",
     "output_type": "stream",
     "text": [
      "Figure 1 \n",
      "Data Acquisition Workflow\n"
     ]
    },
    {
     "data": {
      "text/html": [
       "<img src=\"../figures/1-data-acquisition-workflow.png\" width=\"750\" height=\"750\"/>"
      ],
      "text/plain": [
       "<IPython.core.display.Image object>"
      ]
     },
     "execution_count": 34,
     "metadata": {},
     "output_type": "execute_result"
    }
   ],
   "source": [
    "from IPython.display import Image\n",
    "\n",
    "print('Figure 1 \\nData Acquisition Workflow')\n",
    "Image(url='../figures/1-data-acquisition-workflow.png', width=750, height=750)"
   ]
  },
  {
   "cell_type": "markdown",
   "id": "eca2f932-7fa7-468e-88dc-1a79a29f274d",
   "metadata": {
    "tags": []
   },
   "source": [
    "## Data Quality  \n",
    "\n",
    "The primary data quality issue was the prevalance of missing values (See Figure 2). We only retained variables missing fewer than 30% of their values, which included the following 11 variables: \n",
    "1. Current Assets \n",
    "2. Total Assets \n",
    "3. Cash and Cash Equivalents at Carrying Value \n",
    "4. Authorized Shares of Common Stock \n",
    "5. Issued Shares of Common Stock \n",
    "6. Common Stock Value\n",
    "7. Liabilities and Stockholders Equity \n",
    "8. Current Liabilities \n",
    "9. Total Liabilities \n",
    "10. Retained Earnings (Accumulated Deficit)\n",
    "11. Stockholders Equity "
   ]
  },
  {
   "cell_type": "markdown",
   "id": "c1299204-bf99-4f5f-829a-789a727b7037",
   "metadata": {},
   "source": [
    "## Exploratory Data Analysis\n",
    "\n",
    "We explored the univariate and bivariate distributions of the 11 variables and found them all to be extremely right skewed. Figure 2 shows the distribution of total assets. Futhermore, many of them were strongly positively correlated (See Figure 3). For example, Figure 4 illustrates the strong positive correlation between Retained Earnings (Accumulated Deficit) and Stockholders Equity. "
   ]
  },
  {
   "cell_type": "code",
   "execution_count": 35,
   "id": "f259c143-e39c-4ea8-a016-5452c892c7cd",
   "metadata": {
    "tags": []
   },
   "outputs": [
    {
     "name": "stdout",
     "output_type": "stream",
     "text": [
      "Figure 2 \n",
      "Distribution of Total Assets\n"
     ]
    },
    {
     "data": {
      "text/html": [
       "<img src=\"../figures/2-distribution-of-total-assets.png\" width=\"750\" height=\"750\"/>"
      ],
      "text/plain": [
       "<IPython.core.display.Image object>"
      ]
     },
     "execution_count": 35,
     "metadata": {},
     "output_type": "execute_result"
    }
   ],
   "source": [
    "print('Figure 2 \\nDistribution of Total Assets')\n",
    "Image(url='../figures/2-distribution-of-total-assets.png', width=750, height=750)"
   ]
  },
  {
   "cell_type": "code",
   "execution_count": 36,
   "id": "0f5b79c2-a3b3-4aaa-aeb9-d3bd4e4b2015",
   "metadata": {
    "tags": []
   },
   "outputs": [
    {
     "name": "stdout",
     "output_type": "stream",
     "text": [
      "Figure 3 \n",
      "Correlation Matrix Heatmap\n"
     ]
    },
    {
     "data": {
      "text/html": [
       "<img src=\"../figures/3-correlation-matrix-heatmap.png\" width=\"750\" height=\"750\"/>"
      ],
      "text/plain": [
       "<IPython.core.display.Image object>"
      ]
     },
     "execution_count": 36,
     "metadata": {},
     "output_type": "execute_result"
    }
   ],
   "source": [
    "print('Figure 3 \\nCorrelation Matrix Heatmap')\n",
    "Image(url='../figures/3-correlation-matrix-heatmap.png', width=750, height=750)"
   ]
  },
  {
   "cell_type": "code",
   "execution_count": 33,
   "id": "868ee922-994c-4b57-9cb1-f0b2af484eed",
   "metadata": {
    "tags": []
   },
   "outputs": [
    {
     "name": "stdout",
     "output_type": "stream",
     "text": [
      "Figure 4 \n",
      "Scatterplot of Retained Earnings (Accumulated Deficit) and Stockholders Equity\n"
     ]
    },
    {
     "data": {
      "text/html": [
       "<img src=\"../figures/4-scatterplot-of-retained-earnings-accumulated-deficit-and-stockholders-equity.png\" width=\"750\" height=\"750\"/>"
      ],
      "text/plain": [
       "<IPython.core.display.Image object>"
      ]
     },
     "execution_count": 33,
     "metadata": {},
     "output_type": "execute_result"
    }
   ],
   "source": [
    "print('Figure 4 \\nScatterplot of Retained Earnings (Accumulated Deficit) and Stockholders Equity')\n",
    "Image(url='../figures/4-scatterplot-of-retained-earnings-accumulated-deficit-and-stockholders-equity.png', width=750, height=750)"
   ]
  },
  {
   "cell_type": "markdown",
   "id": "79aa7a86-2e18-49bd-9da1-868bd55e694a",
   "metadata": {},
   "source": [
    "## Feature Engineering\n",
    "\n",
    "We applied preprocessing techniques to de-skew, center, and scale the features, impute missing values, and remove multicollinearity. These transformations were applied to the training and test datasets independently to avoid information leakage. "
   ]
  },
  {
   "cell_type": "markdown",
   "id": "aeed936f-7009-4650-9452-e19ae3a859d0",
   "metadata": {},
   "source": [
    "### Normalization\n",
    "\n",
    "We applied the Yeo-Johnson power transformation to each variable because it can handle negative values, unliked the Box-Cox transformation (Yeo & Johnson, 2000). This made features more normally distributed with a mean of 0 and a standard deviation of 1. Figure 5 shows the transformed distribution of total assets, which can be compared to its original distribution shown in Figure 2. "
   ]
  },
  {
   "cell_type": "code",
   "execution_count": 37,
   "id": "26ab1835-8c42-43f4-ab67-d23545a36f31",
   "metadata": {
    "tags": []
   },
   "outputs": [
    {
     "name": "stdout",
     "output_type": "stream",
     "text": [
      "Figure 5 \n",
      "Correlation Matrix Heatmap\n"
     ]
    },
    {
     "data": {
      "text/html": [
       "<img src=\"../figures/5-transformed-distribution-of-total-assets.png\" width=\"750\" height=\"750\"/>"
      ],
      "text/plain": [
       "<IPython.core.display.Image object>"
      ]
     },
     "execution_count": 37,
     "metadata": {},
     "output_type": "execute_result"
    }
   ],
   "source": [
    "print('Figure 5 \\nCorrelation Matrix Heatmap')\n",
    "Image(url='../figures/5-transformed-distribution-of-total-assets.png', width=750, height=750)"
   ]
  },
  {
   "cell_type": "markdown",
   "id": "7878b530-439e-4a3f-8246-f20ae26542dc",
   "metadata": {},
   "source": [
    "### Imputation\n",
    "\n",
    "We leveraged the strong mututal information among the features to impute their missing values. Specifically, each missing value was estimated from the Euclidean distance-weighted average of its five nearest neighbors, which has been shown to be a robust method (Troyanskaya et al., 2001). "
   ]
  },
  {
   "cell_type": "markdown",
   "id": "dd5544db-8d2e-4d09-8f3f-06495734ddb3",
   "metadata": {},
   "source": [
    "### Principal Component Analysis\n",
    "\n",
    "We applied principal component analysis to remove multicollinearity among the features. The first six principal components explained 94.5% of the variance, and the remaining five were discarded. "
   ]
  },
  {
   "cell_type": "code",
   "execution_count": 38,
   "id": "50b7a0e2-9f6d-482d-b754-6d88a002b0b8",
   "metadata": {
    "tags": []
   },
   "outputs": [
    {
     "name": "stdout",
     "output_type": "stream",
     "text": [
      "Figure 6 \n",
      "Explained Variance by Principal Component\n"
     ]
    },
    {
     "data": {
      "text/html": [
       "<img src=\"../figures/6-explained-variance-by-principal-component.png\" width=\"750\" height=\"750\"/>"
      ],
      "text/plain": [
       "<IPython.core.display.Image object>"
      ]
     },
     "execution_count": 38,
     "metadata": {},
     "output_type": "execute_result"
    }
   ],
   "source": [
    "print('Figure 6 \\nExplained Variance by Principal Component')\n",
    "Image(url='../figures/6-explained-variance-by-principal-component.png', width=750, height=750)"
   ]
  },
  {
   "cell_type": "markdown",
   "id": "d322b7f9-2e7e-4f89-9712-a3401780d2bd",
   "metadata": {},
   "source": [
    "Analysis of each component's loadings found them to be quite interpretable For example, PC1 was positively correlated with all of the features, and therefore appeared to represent overall company size. PC2 was most strongly correlated with stockholders' equity and retained earnings, so it could be understood as overall company value. Figure 7 shows a scatter plot of the first two principal components and their strongest loadings: total assets and stockholders' equity, respectively. We can see that most companies are densely distributed within this two-dimensional projection. "
   ]
  },
  {
   "cell_type": "code",
   "execution_count": 39,
   "id": "7f51e3e6-c5c5-4898-8e24-2ce252dc269e",
   "metadata": {
    "tags": []
   },
   "outputs": [
    {
     "name": "stdout",
     "output_type": "stream",
     "text": [
      "Figure 7 \n",
      "Scatterplot of First Two Principal Components\n"
     ]
    },
    {
     "data": {
      "text/html": [
       "<img src=\"../figures/7-scatterplot-of-first-two-principal-components.png\" width=\"750\" height=\"750\"/>"
      ],
      "text/plain": [
       "<IPython.core.display.Image object>"
      ]
     },
     "execution_count": 39,
     "metadata": {},
     "output_type": "execute_result"
    }
   ],
   "source": [
    "print('Figure 7 \\nScatterplot of First Two Principal Components')\n",
    "Image(url='../figures/7-scatterplot-of-first-two-principal-components.png', width=750, height=750)"
   ]
  },
  {
   "cell_type": "markdown",
   "id": "ec8c3782-6880-4618-8b8e-2d499e9f26fa",
   "metadata": {},
   "source": [
    "## Modeling\n",
    "\n",
    "We used the density-based algorithm OPTICS to cluster the companies and detect anomalies. The training and test datasets were used for hyperparameter tuning and validation, respectively. The final model was retrained on the entire dataset, interpreted, and deployed to an interactive web application. \n",
    "\n",
    "### Selection of Modeling Techniques \n",
    "We decided to use the density-based OPTICS clustering algorithm for its flexibility and interpretability. It can identify clusters of arbitrary shape and has built-in anomaly detection. Furthermore, its reachability scores provide an intuitive representation of the clustering structure and anomaly strength (Ankerst et al., 1999). \n",
    "\n",
    "### Test Design\n",
    "Because ground truth cluster and outlier labels were unavailable for this task, we relied on internal cluster validation methods. Specifically, we used the Silhoutte coefficient as our measure of cluster validity (Rousseeuw, 1987). We used 5-fold cross-validation on the training data to find the hyperparameter values that yielded the highest Silhouette coefficient. The hyperparameters we tuned were ɛ, which is the neighborhood radius in Euclidean distance, and *MinPts*, which is the number of neighbors required for a point to be considered \"core\" (Ankerst et al., 1999). \n",
    "\n",
    "Instead of using OPTICS' reachability slope criteria to extract clusters, we opted for its DBSCAN-like method because it allows the user to explicitly set and visualize the noise threshold on the y-axis of the reachability plot, which supports our goal of intuitive anomaly detection. "
   ]
  },
  {
   "cell_type": "markdown",
   "id": "b9c5869c-35dc-41d0-b6b6-037b322757bb",
   "metadata": {},
   "source": [
    "# Results and Findings\n",
    "\n",
    "The hyperparameter values that yielded the highest 5-fold cross-validated Silhouette coefficient of 0.77 were ɛ = 3.5 and *MinPts* = 1% (See Figure 8). The model was then fit to the entire training dataset, placing 99.0% of the companies into a single normal cluster and classifying the remaining 1.0% as noise. The model was then fit to the test dataset, which yielded a Silhouette coefficient of 0.70 and labeled 99.2% and 0.8% of the companies as normal and noise, respectively. "
   ]
  },
  {
   "cell_type": "code",
   "execution_count": 40,
   "id": "e79aa8a5-044b-4530-beec-ed3512a1cfa9",
   "metadata": {
    "tags": []
   },
   "outputs": [
    {
     "name": "stdout",
     "output_type": "stream",
     "text": [
      "Figure 8 \n",
      "Hyperparameter Tuning Results\n"
     ]
    },
    {
     "data": {
      "text/html": [
       "<img src=\"../figures/8-hyperparameter-tuning-results.png\" width=\"750\" height=\"750\"/>"
      ],
      "text/plain": [
       "<IPython.core.display.Image object>"
      ]
     },
     "execution_count": 40,
     "metadata": {},
     "output_type": "execute_result"
    }
   ],
   "source": [
    "print('Figure 8 \\nHyperparameter Tuning Results')\n",
    "Image(url='../figures/8-hyperparameter-tuning-results.png', width=750, height=750)"
   ]
  },
  {
   "cell_type": "markdown",
   "id": "a82a4f94-b7b2-4fc9-ab29-1eb3d8ddcc0f",
   "metadata": {},
   "source": [
    "## Evaluation of Results\n",
    "\n",
    "The model's consistency across the training and test sets suggests it did not overfit, and its anomaly detection rate of roughly 1% seemed reasonable for our application. For those reasons we decided to retrain the model on the entire dataset and interpret the results. One of OPTICS' outputs is each point's reachability, which is its distance to its nearest neighbor (Ankerst et al., 1999). The reachability plot in Figure 9 shows how the vast majority of companies fell below ɛ and were fairly consistently reachable, while the small fraction that exceeded it were much more isolated. "
   ]
  },
  {
   "cell_type": "code",
   "execution_count": 41,
   "id": "173c824c-b9d8-4035-b360-d81bd8c2ef35",
   "metadata": {
    "tags": []
   },
   "outputs": [
    {
     "name": "stdout",
     "output_type": "stream",
     "text": [
      "Figure 9 \n",
      "Reachability Plot\n"
     ]
    },
    {
     "data": {
      "text/html": [
       "<img src=\"../figures/9-reachability-plot.png\" width=\"750\" height=\"750\"/>"
      ],
      "text/plain": [
       "<IPython.core.display.Image object>"
      ]
     },
     "execution_count": 41,
     "metadata": {},
     "output_type": "execute_result"
    }
   ],
   "source": [
    "print('Figure 9 \\nReachability Plot')\n",
    "Image(url='../figures/9-reachability-plot.png', width=750, height=750)"
   ]
  },
  {
   "cell_type": "markdown",
   "id": "dc0417c5-049f-41e7-a7be-533d68823721",
   "metadata": {},
   "source": [
    "Figure 10 also provides some intuition behind the clustering results by visualizing the clustering results in the first two principal components. Within this two-dimensional space, we see the majority of the normal companies are densely clustered near the origin, with most of the anomalies further spread out. However, some anomalies lie close to the origin, which suggests they are outliers in one or more of the principal components not visualized here. "
   ]
  },
  {
   "cell_type": "code",
   "execution_count": 42,
   "id": "1cdd9b8c-92a7-4de5-ba93-f3ad3e8d3856",
   "metadata": {},
   "outputs": [
    {
     "name": "stdout",
     "output_type": "stream",
     "text": [
      "Figure 10 \n",
      "Scatterplot of Clustering Output in First Two Principal Components\n"
     ]
    },
    {
     "data": {
      "text/html": [
       "<img src=\"../figures/10-scatterplot-of-clustering-output-in-first-two-principal-components.png\" width=\"750\" height=\"750\"/>"
      ],
      "text/plain": [
       "<IPython.core.display.Image object>"
      ]
     },
     "execution_count": 42,
     "metadata": {},
     "output_type": "execute_result"
    }
   ],
   "source": [
    "print('Figure 10 \\nScatterplot of Clustering Output in First Two Principal Components')\n",
    "Image(url='../figures/10-scatterplot-of-clustering-output-in-first-two-principal-components.png', width=750, height=750)"
   ]
  },
  {
   "cell_type": "markdown",
   "id": "7db2ed8a-8193-4cf4-ba3e-ec4e3fbbd72f",
   "metadata": {},
   "source": [
    "After identifying the anomalies, we sorted them by their reachability scores to provide a prioritized list for manual investigation. The most anomalous company was the Federal National Mortgage Association, also known as Fannie Mae. Upon inspecting its features, we found that it was an extreme outlier in the fourth principal component, which was most strongly correlated with accumulated deficit (see Figure 11). According to our raw dataset, Fannie Mae reported an accumulated deficit of $108 billion dollars at the end of 2020, so it is unsuprising that it is anomalous within that dimension. Furthermore, the Federal Housing Finance Agency (FHFA) placed Fannie Mae into conservatorship in 2008 after concluding they would become insolvent (FHFA, 2022). This validates our previous interpretation of the fourth principal component as rep"
   ]
  },
  {
   "cell_type": "markdown",
   "id": "f9ee34cb-7c1d-4028-9480-7dc5bed1438e",
   "metadata": {},
   "source": [
    "# Discussion"
   ]
  },
  {
   "cell_type": "markdown",
   "id": "7bc8341d-fc35-4c1f-9e91-e4bad0ee8668",
   "metadata": {},
   "source": [
    "## Conclusion"
   ]
  },
  {
   "cell_type": "markdown",
   "id": "e5e22cc2-423d-4cae-9733-384daa050d39",
   "metadata": {},
   "source": [
    "## Future Studies"
   ]
  },
  {
   "cell_type": "code",
   "execution_count": null,
   "id": "e7d0e081-4bdd-4092-960e-3537029eb4c7",
   "metadata": {},
   "outputs": [],
   "source": []
  }
 ],
 "metadata": {
  "kernelspec": {
   "display_name": "Python 3 (ipykernel)",
   "language": "python",
   "name": "python3"
  },
  "language_info": {
   "codemirror_mode": {
    "name": "ipython",
    "version": 3
   },
   "file_extension": ".py",
   "mimetype": "text/x-python",
   "name": "python",
   "nbconvert_exporter": "python",
   "pygments_lexer": "ipython3",
   "version": "3.10.7"
  }
 },
 "nbformat": 4,
 "nbformat_minor": 5
}
